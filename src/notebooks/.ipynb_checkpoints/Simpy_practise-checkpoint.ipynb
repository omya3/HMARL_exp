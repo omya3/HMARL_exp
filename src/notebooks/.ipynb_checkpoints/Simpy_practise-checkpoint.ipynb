{
 "cells": [
  {
   "cell_type": "code",
   "execution_count": 10,
   "id": "82ed82e2-7448-4d7a-b181-07a76278cb60",
   "metadata": {},
   "outputs": [],
   "source": [
    "# movie theatre simulation"
   ]
  },
  {
   "cell_type": "code",
   "execution_count": 1,
   "id": "8959f4b3-b341-4425-97fb-1eb38e29e8dc",
   "metadata": {
    "tags": []
   },
   "outputs": [],
   "source": [
    "import simpy as smp\n",
    "import random\n",
    "import statistics"
   ]
  },
  {
   "cell_type": "code",
   "execution_count": 13,
   "id": "a38cf58c-8a79-4ac9-9ce5-fe7b73f04b0e",
   "metadata": {},
   "outputs": [],
   "source": [
    "wait_times = []"
   ]
  },
  {
   "cell_type": "code",
   "execution_count": 34,
   "id": "ac319569-0422-40ee-a392-bcfd1fad76b3",
   "metadata": {},
   "outputs": [],
   "source": [
    "env = smp.Environment()"
   ]
  },
  {
   "cell_type": "code",
   "execution_count": 35,
   "id": "47d05850-3542-4c7a-a7cc-dadd72c386b1",
   "metadata": {},
   "outputs": [],
   "source": [
    "def car(env):\n",
    "    while True:\n",
    "        print('Start parking at %d' % env.now)\n",
    "        parking_duration = 5\n",
    "        yield env.timeout(parking_duration)\n",
    "        print('Done parking at %d' % env.now)\n",
    "        \n",
    "        print('Start driving at %d' % env.now)\n",
    "        trip_duration = 2\n",
    "        yield env.timeout(trip_duration)\n",
    "        print('Done parking at %d' % env.now)"
   ]
  },
  {
   "cell_type": "code",
   "execution_count": 36,
   "id": "5a8fb591-302a-4a6b-a49c-4786b021037b",
   "metadata": {},
   "outputs": [
    {
     "data": {
      "text/plain": [
       "<Process(car) object at 0x10351ad90>"
      ]
     },
     "execution_count": 36,
     "metadata": {},
     "output_type": "execute_result"
    }
   ],
   "source": [
    "env.process(car(env))"
   ]
  },
  {
   "cell_type": "code",
   "execution_count": 37,
   "id": "7fd6e486-9b5f-4d62-94b2-8f77ce6ba3f5",
   "metadata": {},
   "outputs": [
    {
     "name": "stdout",
     "output_type": "stream",
     "text": [
      "Start parking at 0\n",
      "Done parking at 5\n",
      "Start driving at 5\n",
      "Done parking at 7\n",
      "Start parking at 7\n",
      "Done parking at 12\n",
      "Start driving at 12\n",
      "Done parking at 14\n",
      "Start parking at 14\n",
      "Done parking at 19\n",
      "Start driving at 19\n"
     ]
    }
   ],
   "source": [
    "env.run(until=20)"
   ]
  },
  {
   "cell_type": "code",
   "execution_count": 29,
   "id": "457dec5c-2dd8-49c1-8a1c-065e2488d5dd",
   "metadata": {},
   "outputs": [
    {
     "data": {
      "text/plain": [
       "15"
      ]
     },
     "execution_count": 29,
     "metadata": {},
     "output_type": "execute_result"
    }
   ],
   "source": [
    "env.now"
   ]
  },
  {
   "cell_type": "code",
   "execution_count": 38,
   "id": "97b94b72-b84c-4611-88dd-f8e523c9dc2b",
   "metadata": {},
   "outputs": [],
   "source": [
    "class Car(object):\n",
    "    def __init__(self, env):\n",
    "        self.env = env\n",
    "        # Start the run process everytime an instance is created.\n",
    "        self.action = env.process(self.run())\n",
    "\n",
    "    def run(self):\n",
    "        while True:\n",
    "            print('Start parking and charging at %d' % self.env.now)\n",
    "            charge_duration = 5\n",
    "            # We yield the process that process() returns\n",
    "            # to wait for it to finish\n",
    "            yield self.env.process(self.charge(charge_duration))\n",
    "\n",
    "            # The charge process has finished and\n",
    "            # we can start driving again.\n",
    "            print('Start driving at %d' % self.env.now)\n",
    "            trip_duration = 2\n",
    "            yield self.env.timeout(trip_duration)\n",
    "\n",
    "    def charge(self, duration):\n",
    "        yield self.env.timeout(duration)"
   ]
  },
  {
   "cell_type": "code",
   "execution_count": 40,
   "id": "3732f543-17e5-4e55-a7ac-e538860f7725",
   "metadata": {},
   "outputs": [
    {
     "name": "stdout",
     "output_type": "stream",
     "text": [
      "Start parking and charging at 0\n",
      "Start driving at 5\n",
      "Start parking and charging at 7\n",
      "Start driving at 12\n",
      "Start parking and charging at 14\n"
     ]
    }
   ],
   "source": [
    "env2 = simpy.Environment()\n",
    "car = Car(env2)\n",
    "env2.run(until=15)"
   ]
  },
  {
   "cell_type": "markdown",
   "id": "98598d09-2c5e-4c2d-ba05-6a8ddee5b82d",
   "metadata": {},
   "source": [
    "# Interrupting a running car"
   ]
  },
  {
   "cell_type": "code",
   "execution_count": 64,
   "id": "a3d655b9-88bd-4add-b2cf-d7a8ad22e195",
   "metadata": {},
   "outputs": [],
   "source": [
    "class Car(object):\n",
    "    def __init__(self, env):\n",
    "        self.env = env\n",
    "        self.action = env.process(self.run1())\n",
    "\n",
    "    def run1(self):\n",
    "        while True:\n",
    "            print('Start parking and charging at %d' % self.env.now)\n",
    "            charge_duration = 5\n",
    "            # We may get interrupted while charging the battery\n",
    "            try:\n",
    "                yield self.env.process(self.charge(charge_duration))\n",
    "            except simpy.Interrupt:\n",
    "                # When we received an interrupt, we stop charging and\n",
    "                # switch to the \"driving\" state\n",
    "                print('Was interrupted. Hope, the battery is full enough ...')\n",
    "\n",
    "            print('Start driving at %d' % self.env.now)\n",
    "            trip_duration = 2\n",
    "            yield self.env.timeout(trip_duration)\n",
    "\n",
    "    def charge(self, duration):\n",
    "        yield self.env.timeout(duration)\n"
   ]
  },
  {
   "cell_type": "code",
   "execution_count": 65,
   "id": "bd8b5987-245f-44a0-8c61-6e8ee768d5d8",
   "metadata": {},
   "outputs": [],
   "source": [
    "def driver(env, car):\n",
    "    yield env.timeout(3)\n",
    "    print('Going to interrupt')\n",
    "    car.action.interrupt()"
   ]
  },
  {
   "cell_type": "code",
   "execution_count": 66,
   "id": "6f81724f-e671-4d26-94b9-cc6bcfb06dd3",
   "metadata": {},
   "outputs": [
    {
     "name": "stdout",
     "output_type": "stream",
     "text": [
      "Start parking and charging at 0\n",
      "Going to interrupt\n",
      "Was interrupted. Hope, the battery is full enough ...\n",
      "Start driving at 3\n",
      "Start parking and charging at 5\n",
      "Start driving at 10\n",
      "Start parking and charging at 12\n"
     ]
    }
   ],
   "source": [
    "env = simpy.Environment()\n",
    "car = Car(env)\n",
    "env.process(driver(env, car))\n",
    "env.run(until=15)"
   ]
  },
  {
   "cell_type": "markdown",
   "id": "7eac2dd7-b042-4a73-9a15-ced9e4b956cb",
   "metadata": {},
   "source": [
    "# Shared resources"
   ]
  },
  {
   "cell_type": "code",
   "execution_count": 71,
   "id": "c57f3402-0b6f-41fd-bd67-117f494a3887",
   "metadata": {},
   "outputs": [],
   "source": [
    "def car(env, name, bcs, driving_time, charge_duration):\n",
    "    # Simulate driving to the BCS\n",
    "    yield env.timeout(driving_time)\n",
    "\n",
    "    # Request one of its charging spots\n",
    "    print('%s arriving at %d' % (name, env.now))\n",
    "    with bcs.request() as req:\n",
    "        yield req\n",
    "\n",
    "        # Charge the battery\n",
    "        print('%s starting to charge at %s' % (name, env.now))\n",
    "        yield env.timeout(charge_duration)\n",
    "        print('%s leaving the bcs at %s' % (name, env.now))"
   ]
  },
  {
   "cell_type": "code",
   "execution_count": 84,
   "id": "c3b76284-1343-4a44-a33d-22b78c4bbc42",
   "metadata": {},
   "outputs": [],
   "source": [
    "env3 = simpy.Environment()\n",
    "bcs = simpy.Resource(env3, capacity=2) #creating two resources i-e charging station"
   ]
  },
  {
   "cell_type": "code",
   "execution_count": 85,
   "id": "aecc1f5a-d8fd-4830-bc6c-8c5eec70af34",
   "metadata": {},
   "outputs": [],
   "source": [
    "for i in range(4):\n",
    "    env3.process(car(env3, 'Car %d' % i, bcs, i*2, 5))"
   ]
  },
  {
   "cell_type": "code",
   "execution_count": 86,
   "id": "d02fd10e-346b-4628-bc3a-cdac81bd2795",
   "metadata": {},
   "outputs": [
    {
     "name": "stdout",
     "output_type": "stream",
     "text": [
      "Car 0 arriving at 0\n",
      "Car 0 starting to charge at 0\n",
      "Car 1 arriving at 2\n",
      "Car 1 starting to charge at 2\n",
      "Car 2 arriving at 4\n",
      "Car 0 leaving the bcs at 5\n",
      "Car 2 starting to charge at 5\n",
      "Car 3 arriving at 6\n",
      "Car 1 leaving the bcs at 7\n",
      "Car 3 starting to charge at 7\n",
      "Car 2 leaving the bcs at 10\n",
      "Car 3 leaving the bcs at 12\n"
     ]
    }
   ],
   "source": [
    "env3.run()"
   ]
  },
  {
   "cell_type": "code",
   "execution_count": null,
   "id": "b71885dd-b3e2-4b77-a01b-067ad8c6d3b7",
   "metadata": {},
   "outputs": [],
   "source": []
  },
  {
   "cell_type": "code",
   "execution_count": null,
   "id": "86b3452b-905e-4bbf-831b-f1295bf29e51",
   "metadata": {},
   "outputs": [],
   "source": []
  },
  {
   "cell_type": "markdown",
   "id": "899c63cf-b951-4b0e-9700-a123ebb1c93a",
   "metadata": {},
   "source": [
    "# Basics"
   ]
  },
  {
   "cell_type": "code",
   "execution_count": 87,
   "id": "efda88e9-62b7-411d-a4d2-69e3fa42d6d9",
   "metadata": {},
   "outputs": [
    {
     "name": "stdout",
     "output_type": "stream",
     "text": [
      "now=1, value=42\n"
     ]
    }
   ],
   "source": [
    "def example(env):\n",
    "    value = yield env.timeout(1, value=42)\n",
    "    print('now=%d, value=%d' % (env.now, value))\n",
    "\n",
    "env = smp.Environment()\n",
    "p = env.process(example(env))\n",
    "env.run()"
   ]
  },
  {
   "cell_type": "code",
   "execution_count": 91,
   "id": "70b702b6-8ee0-4fed-9006-97c093b41af2",
   "metadata": {},
   "outputs": [],
   "source": [
    "def example2(env):\n",
    "    value = yield env.timeout(1, value=42)\n",
    "    print('now=%d, value=%d' % (env.now, value))"
   ]
  },
  {
   "cell_type": "code",
   "execution_count": 90,
   "id": "4afef0af-eb9c-4666-911e-2bb32ff8c8a9",
   "metadata": {},
   "outputs": [
    {
     "name": "stdout",
     "output_type": "stream",
     "text": [
      "now=3, value=42\n"
     ]
    }
   ],
   "source": [
    "env.process(example(env))\n",
    "env.run()"
   ]
  },
  {
   "cell_type": "code",
   "execution_count": 92,
   "id": "0f0f8841-8e9b-4a96-8e4a-d6c3791d270f",
   "metadata": {},
   "outputs": [
    {
     "name": "stdout",
     "output_type": "stream",
     "text": [
      "now=4, value=42\n"
     ]
    }
   ],
   "source": [
    "env.process(example2(env))\n",
    "env.run()"
   ]
  },
  {
   "cell_type": "markdown",
   "id": "77ed68e8-5fdb-4bfd-aad3-9ce5933ab63a",
   "metadata": {},
   "source": [
    "# Environments"
   ]
  },
  {
   "cell_type": "code",
   "execution_count": 107,
   "id": "b0fd782f-535f-4245-aa97-ca54161b7a8f",
   "metadata": {},
   "outputs": [],
   "source": [
    "env6 = smp.Environment()"
   ]
  },
  {
   "cell_type": "code",
   "execution_count": 108,
   "id": "04b8e887-1441-4ba9-932b-07ec56fc2240",
   "metadata": {
    "scrolled": true
   },
   "outputs": [
    {
     "name": "stdout",
     "output_type": "stream",
     "text": [
      "8\n",
      "9\n",
      "10\n",
      "11\n",
      "12\n",
      "13\n",
      "14\n",
      "15\n",
      "16\n",
      "17\n",
      "18\n",
      "19\n",
      "20\n",
      "21\n",
      "22\n",
      "23\n",
      "24\n",
      "25\n",
      "26\n",
      "27\n",
      "28\n",
      "29\n",
      "30\n",
      "31\n",
      "32\n",
      "33\n",
      "34\n",
      "35\n",
      "36\n",
      "37\n",
      "38\n",
      "39\n",
      "40\n",
      "41\n",
      "42\n",
      "43\n",
      "44\n",
      "45\n",
      "46\n",
      "47\n",
      "48\n",
      "49\n",
      "50\n",
      "51\n",
      "52\n",
      "53\n",
      "54\n",
      "55\n",
      "56\n",
      "57\n",
      "58\n",
      "59\n",
      "60\n",
      "61\n",
      "62\n",
      "63\n",
      "64\n",
      "65\n",
      "66\n",
      "67\n",
      "68\n",
      "69\n",
      "70\n",
      "71\n",
      "72\n",
      "73\n",
      "74\n",
      "75\n",
      "76\n",
      "77\n",
      "78\n",
      "79\n",
      "80\n",
      "81\n",
      "82\n",
      "83\n",
      "84\n",
      "85\n",
      "86\n",
      "87\n",
      "88\n",
      "89\n",
      "90\n",
      "91\n",
      "92\n",
      "93\n",
      "94\n",
      "95\n",
      "96\n",
      "97\n",
      "98\n",
      "99\n",
      "100\n",
      "101\n",
      "102\n",
      "103\n",
      "104\n",
      "105\n",
      "106\n",
      "107\n"
     ]
    }
   ],
   "source": [
    "for i in range(100):\n",
    "    env6.run(until=i+8)\n",
    "    print(env6.now)"
   ]
  },
  {
   "cell_type": "markdown",
   "id": "6c100d66-9eb6-4732-8343-82fe3d895d5a",
   "metadata": {},
   "source": [
    "Instead of passing a number to run(), you can also pass any event to it. run() will then return when the event has been processed."
   ]
  },
  {
   "cell_type": "code",
   "execution_count": 116,
   "id": "13efbf6c-d06e-42ea-9bed-5accdf66fe4f",
   "metadata": {},
   "outputs": [],
   "source": [
    "def my_proc(env):\n",
    "    yield env.timeout(1)\n",
    "    print(env.peek())\n",
    "    yield env.timeout(10)\n",
    "    return 'Monty pythons circus'"
   ]
  },
  {
   "cell_type": "code",
   "execution_count": 117,
   "id": "31359e3b-dd59-4dfd-a875-ade9005e1bb9",
   "metadata": {},
   "outputs": [
    {
     "name": "stdout",
     "output_type": "stream",
     "text": [
      "inf\n"
     ]
    },
    {
     "data": {
      "text/plain": [
       "'Monty pythons circus'"
      ]
     },
     "execution_count": 117,
     "metadata": {},
     "output_type": "execute_result"
    }
   ],
   "source": [
    "env = smp.Environment()\n",
    "proc = env.process(my_proc(env))\n",
    "env.run(until=proc)"
   ]
  },
  {
   "cell_type": "code",
   "execution_count": 118,
   "id": "b9629156-0a3f-44e9-b1a1-2d359e920337",
   "metadata": {},
   "outputs": [
    {
     "data": {
      "text/plain": [
       "11"
      ]
     },
     "execution_count": 118,
     "metadata": {},
     "output_type": "execute_result"
    }
   ],
   "source": [
    "env.now"
   ]
  },
  {
   "cell_type": "code",
   "execution_count": 114,
   "id": "24cce480-fc6e-40e8-88a9-61085702babb",
   "metadata": {},
   "outputs": [],
   "source": [
    "until = 10\n",
    "while env.peek() < until:\n",
    "   env.step()"
   ]
  },
  {
   "cell_type": "code",
   "execution_count": 119,
   "id": "ba262361-a653-4dfd-aace-56c7b7e37e61",
   "metadata": {},
   "outputs": [],
   "source": [
    "def subfunc(env):\n",
    "    print(env.active_process)\n",
    "\n",
    "def my_proc(env):\n",
    "    while True:\n",
    "        print(env.active_process)  # will print \"p1\"\n",
    "        subfunc(env)\n",
    "        yield env.timeout(1)"
   ]
  },
  {
   "cell_type": "code",
   "execution_count": 122,
   "id": "b4282c18-5189-4cf2-ba6e-abfb150a613d",
   "metadata": {},
   "outputs": [
    {
     "name": "stdout",
     "output_type": "stream",
     "text": [
      "None\n",
      "<Process(my_proc) object at 0x103d76510>\n",
      "<Process(my_proc) object at 0x103d76510>\n",
      "None\n"
     ]
    }
   ],
   "source": [
    "env = simpy.Environment()\n",
    "p1 = env.process(my_proc(env))\n",
    "print(env.active_process)\n",
    "env.step()\n",
    "print(env.active_process)"
   ]
  },
  {
   "cell_type": "code",
   "execution_count": 128,
   "id": "f92b624f-dec3-42d2-9c63-c68a034a2012",
   "metadata": {},
   "outputs": [],
   "source": [
    "def my_callback(event):\n",
    "    print('Called back from', event)"
   ]
  },
  {
   "cell_type": "code",
   "execution_count": 129,
   "id": "ba469f91-f154-4f42-ac33-626271196c29",
   "metadata": {},
   "outputs": [
    {
     "data": {
      "text/plain": [
       "[<function __main__.my_callback(event)>]"
      ]
     },
     "execution_count": 129,
     "metadata": {},
     "output_type": "execute_result"
    }
   ],
   "source": [
    "env = smp.Environment()\n",
    "event = env.event()\n",
    "event.callbacks.append(my_callback)\n",
    "event.callbacks"
   ]
  },
  {
   "cell_type": "markdown",
   "id": "82801469-2ba1-43d3-b386-6e2f75180b0b",
   "metadata": {},
   "source": [
    "# Usages of events"
   ]
  },
  {
   "cell_type": "code",
   "execution_count": 131,
   "id": "e7cf25cb-65cd-4019-bee0-27b1e540dea5",
   "metadata": {},
   "outputs": [],
   "source": [
    "class School:\n",
    "    def __init__(self, env):\n",
    "        self.env = env\n",
    "        self.class_ends = env.event()\n",
    "        self.pupil_procs = [env.process(self.pupil()) for i in range(3)]\n",
    "        self.bell_proc = env.process(self.bell())\n",
    "\n",
    "    def bell(self):\n",
    "        for i in range(2):\n",
    "            yield self.env.timeout(45)\n",
    "            self.class_ends.succeed()\n",
    "            self.class_ends = self.env.event()\n",
    "            print()\n",
    "\n",
    "    def pupil(self):\n",
    "        for i in range(2):\n",
    "            print(r' \\o/', end='')\n",
    "            yield self.class_ends"
   ]
  },
  {
   "cell_type": "code",
   "execution_count": 132,
   "id": "76572209-9b03-411a-aad3-e6dd18da8b6d",
   "metadata": {},
   "outputs": [
    {
     "name": "stdout",
     "output_type": "stream",
     "text": [
      " \\o/ \\o/ \\o/\n",
      " \\o/ \\o/ \\o/\n"
     ]
    }
   ],
   "source": [
    "school = School(env)\n",
    "env.run()"
   ]
  },
  {
   "cell_type": "markdown",
   "id": "4c0e548a-90e5-46d9-a2c8-1ae1de7a6903",
   "metadata": {},
   "source": [
    "# Processes are events too"
   ]
  },
  {
   "cell_type": "code",
   "execution_count": 133,
   "id": "a241bb7a-c686-45f7-b182-6b4f66b47e33",
   "metadata": {},
   "outputs": [],
   "source": [
    "def sub(env):\n",
    "    yield env.timeout(1)\n",
    "    return 23"
   ]
  },
  {
   "cell_type": "code",
   "execution_count": 134,
   "id": "01f04975-b764-4174-a1b0-8e9fc3a00cb9",
   "metadata": {},
   "outputs": [],
   "source": [
    "def parent(env):\n",
    "    ret = yield env.process(sub(env))\n",
    "    return ret"
   ]
  },
  {
   "cell_type": "code",
   "execution_count": 135,
   "id": "8ea1b3c2-4fc6-4961-8f64-5fa0b519a1c3",
   "metadata": {},
   "outputs": [
    {
     "data": {
      "text/plain": [
       "23"
      ]
     },
     "execution_count": 135,
     "metadata": {},
     "output_type": "execute_result"
    }
   ],
   "source": [
    "env.run(env.process(parent(env)))"
   ]
  },
  {
   "cell_type": "markdown",
   "id": "af3475ba-1b70-4139-9cef-a6d8546e5f48",
   "metadata": {},
   "source": [
    "## start a process after some delay"
   ]
  },
  {
   "cell_type": "code",
   "execution_count": 136,
   "id": "a2930435-ab6f-4c1c-8b25-3cf8e933b07b",
   "metadata": {},
   "outputs": [],
   "source": [
    "from simpy.util import start_delayed\n",
    "\n",
    "def sub(env):\n",
    "    yield env.timeout(1)\n",
    "    return 23\n",
    "\n",
    "def parent(env):\n",
    "    sub_proc = yield start_delayed(env, sub(env), delay=3)\n",
    "    ret = yield sub_proc\n",
    "    return ret"
   ]
  },
  {
   "cell_type": "code",
   "execution_count": 137,
   "id": "a99e16e0-cd65-4b2c-821e-a7ef76c7101e",
   "metadata": {},
   "outputs": [
    {
     "data": {
      "text/plain": [
       "23"
      ]
     },
     "execution_count": 137,
     "metadata": {},
     "output_type": "execute_result"
    }
   ],
   "source": [
    "env.run(env.process(parent(env)))"
   ]
  },
  {
   "cell_type": "code",
   "execution_count": null,
   "id": "3312a84a-8c9c-415b-a069-6a8817fd3559",
   "metadata": {},
   "outputs": [],
   "source": []
  },
  {
   "cell_type": "markdown",
   "id": "8204660b-95fc-4288-967f-d011c29f368d",
   "metadata": {},
   "source": [
    "# Algo."
   ]
  },
  {
   "cell_type": "code",
   "execution_count": 149,
   "id": "124c2f75-70fb-46f0-9d2f-b8246158de10",
   "metadata": {
    "tags": []
   },
   "outputs": [],
   "source": [
    "import simpy as smp\n",
    "import random\n",
    "import statistics\n",
    "import numpy as np\n",
    "import pandas as pd\n",
    "import operator"
   ]
  },
  {
   "cell_type": "code",
   "execution_count": 150,
   "id": "51fba36d-d30f-4590-8f99-978e4b03f519",
   "metadata": {
    "tags": []
   },
   "outputs": [],
   "source": [
    "#arr_rate_mean = [20,30,40]"
   ]
  },
  {
   "cell_type": "markdown",
   "id": "568dfb01-89d3-4ca0-a4ec-7bee61db0d26",
   "metadata": {},
   "source": [
    "# Simulating environment"
   ]
  },
  {
   "cell_type": "code",
   "execution_count": 151,
   "id": "67eb6584-5ebe-40eb-b6b7-9201b587b91a",
   "metadata": {
    "tags": []
   },
   "outputs": [],
   "source": [
    "def get_time_stamps(num_slices, quantum):\n",
    "    time_stamps = random.sample(range(1, quantum), num_slices)\n",
    "    return time_stamps"
   ]
  },
  {
   "cell_type": "code",
   "execution_count": 152,
   "id": "ccf6cc2c-fcd7-457e-a3ce-d8439528cf32",
   "metadata": {
    "tags": []
   },
   "outputs": [],
   "source": [
    "def get_value(mu, sigma):\n",
    "    return np.random.normal(mu, sigma, 1)[0]"
   ]
  },
  {
   "cell_type": "code",
   "execution_count": 153,
   "id": "181516f0-819f-49e1-8eed-9ba6fbf4fc20",
   "metadata": {
    "tags": []
   },
   "outputs": [],
   "source": [
    "def generate_a_slice(class_type, time):\n",
    "    a_slice = dict()\n",
    "    # generate bid_value\n",
    "    bid_value = np.floor(get_value(slice_req_params[class_type]['mean_bid_val'],\n",
    "                          slice_req_params[class_type]['var']))\n",
    "    \n",
    "    # generate slice_duration\n",
    "    slice_duration = np.floor(get_value(slice_req_params[class_type]['mean_duration'],\n",
    "                          slice_req_params[class_type]['var']))\n",
    "\n",
    "    # generate SLAV neglected\n",
    "    SLAV_permit = slice_req_params[class_type]['SLAV']\n",
    "\n",
    "    # generate cpu request\n",
    "    ncpu = np.floor(get_value(slice_class_res_req[class_type]['NC'],\n",
    "                     slice_req_params[class_type]['var']))\n",
    "\n",
    "    # generate bw request\n",
    "    nbw = np.floor(get_value(slice_class_res_req[class_type]['NB'],\n",
    "                     slice_req_params[class_type]['var']))\n",
    "\n",
    "    # generate memory request\n",
    "    nm = np.floor(get_value(slice_class_res_req[class_type]['NM'],\n",
    "                     slice_req_params[class_type]['var']))\n",
    "\n",
    "    a_slice['bid_value']= bid_value\n",
    "    a_slice['slice_duration']= slice_duration\n",
    "    a_slice['SLAV_permit']= SLAV_permit\n",
    "    a_slice['ncpu']= ncpu\n",
    "    a_slice['nbw']= nbw\n",
    "    a_slice['nm']= nm\n",
    "    a_slice['class']= class_type\n",
    "    a_slice['time']= time\n",
    "    a_slice['end_time']= time + slice_duration\n",
    "\n",
    "    return a_slice"
   ]
  },
  {
   "cell_type": "code",
   "execution_count": 154,
   "id": "5fae5e00-1a87-4124-80c5-99cd546f9b45",
   "metadata": {
    "tags": []
   },
   "outputs": [],
   "source": [
    "def get_slices(class_type, quantum, curr_time):\n",
    "\n",
    "    num_slices = int(max(1, np.floor(get_value(slice_req_params[class_type]['arr_rate_mean'], slice_req_params[class_type]['var']))))\n",
    "    time_stamps = get_time_stamps(num_slices, quantum)\n",
    "    time_stamps = list(map(lambda x: x + curr_time, time_stamps))\n",
    "    time_stamps.sort()\n",
    "    slices = [generate_a_slice(class_type, time_stamps[i]) for i in range(int(num_slices))]\n",
    "    # print(len(time_stamps),' of ', class_type)\n",
    "    return slices"
   ]
  },
  {
   "cell_type": "markdown",
   "id": "1a26d932-d788-4467-9f43-0953ed275d52",
   "metadata": {
    "tags": []
   },
   "source": [
    "# Decision algos."
   ]
  },
  {
   "cell_type": "code",
   "execution_count": 155,
   "id": "73bb357d-d944-4e18-9344-73c247ffb175",
   "metadata": {
    "tags": []
   },
   "outputs": [],
   "source": [
    "existing_slices = list()"
   ]
  },
  {
   "cell_type": "code",
   "execution_count": 156,
   "id": "538fff0c-040d-45fd-b70d-03c18a578a89",
   "metadata": {
    "tags": []
   },
   "outputs": [],
   "source": [
    "def release_slice(slice_, current_time):\n",
    "    \n",
    "    if slice_['end_time']<current_time:\n",
    "        return 1\n",
    "    else:\n",
    "        return 0"
   ]
  },
  {
   "cell_type": "code",
   "execution_count": 157,
   "id": "70c12e32-e978-4ac6-9104-38de968cf6a6",
   "metadata": {
    "tags": []
   },
   "outputs": [],
   "source": [
    "def release_slices(active_slices, curr_time):\n",
    "    expired_slices_count = 0\n",
    "    for slice_ in active_slices:\n",
    "        if int(slice_['end_time'])<curr_time:\n",
    "            total_res['C'] += slice_['ncpu']\n",
    "            total_res['M'] += slice_['nm']\n",
    "            total_res['B'] += slice_['nbw']\n",
    "            active_slices.remove(slice_)\n",
    "            expired_slices_count+=1\n",
    "    return active_slices, expired_slices_count"
   ]
  },
  {
   "cell_type": "code",
   "execution_count": 158,
   "id": "d6d0f9a0-884f-4b71-a62a-8a8abed9e008",
   "metadata": {
    "tags": []
   },
   "outputs": [],
   "source": [
    "def generate_slav_for_c1():\n",
    "    num = np.random.exponential(3.45)\n",
    "    if num>15:\n",
    "        return 1"
   ]
  },
  {
   "cell_type": "code",
   "execution_count": 159,
   "id": "667cdb5f-debb-4c0b-8f82-af4f3edb51fb",
   "metadata": {
    "tags": []
   },
   "outputs": [],
   "source": [
    "def generate_slav_for_c2():\n",
    "    num = random.uniform(0, 1)\n",
    "    if num > 0.9:\n",
    "        return 1"
   ]
  },
  {
   "cell_type": "code",
   "execution_count": 160,
   "id": "d24b1e60-5c84-4635-a893-7d5ced4a1172",
   "metadata": {
    "tags": []
   },
   "outputs": [],
   "source": [
    "def generate_slav_for_c3():\n",
    "    num = random.uniform(0, 1)\n",
    "    if num > 0.95:\n",
    "        return 1"
   ]
  },
  {
   "cell_type": "code",
   "execution_count": 161,
   "id": "d5697fdd-e298-4dc0-a02f-ec6cb86f62ba",
   "metadata": {
    "tags": []
   },
   "outputs": [],
   "source": [
    "def calculate_revenue(active_slices):\n",
    "    # calculate revenue\n",
    "    active_revenue = 0\n",
    "    for slice_ in active_slices:\n",
    "        active_revenue += slice_['bid_value']\n",
    "    return active_revenue"
   ]
  },
  {
   "cell_type": "code",
   "execution_count": 162,
   "id": "8bfb7390-7c6c-4346-a7db-a2d59936ca26",
   "metadata": {
    "tags": []
   },
   "outputs": [],
   "source": [
    "def calculate_slav(active_slices):\n",
    "    slav = 0\n",
    "    \n",
    "    for slice_ in active_slices:\n",
    "        if slice_['class']=='C1':\n",
    "            val = generate_slav_for_c1()\n",
    "            if val:\n",
    "                slav+=slice_req_params['C1']['slav_penalty']\n",
    "        elif slice_['class']=='C2':\n",
    "            val = generate_slav_for_c2()\n",
    "            if val:\n",
    "                slav+=slice_req_params['C2']['slav_penalty']\n",
    "        else:\n",
    "            val = generate_slav_for_c3()\n",
    "            if val:\n",
    "                slav+=slice_req_params['C3']['slav_penalty']\n",
    "                \n",
    "    return slav"
   ]
  },
  {
   "cell_type": "markdown",
   "id": "936b97e9-053a-4cea-aa63-55adb527470b",
   "metadata": {},
   "source": [
    "## 1. Simple fcfs algo."
   ]
  },
  {
   "cell_type": "code",
   "execution_count": 163,
   "id": "d60f91ae-c01c-45f8-865c-4eaf2d1831b0",
   "metadata": {
    "tags": []
   },
   "outputs": [],
   "source": [
    "def simple(slice_reqs):\n",
    "    \n",
    "    rej_penalty = 0\n",
    "    accepted_slices = list()\n",
    "    # assigning resources on fcfs basis\n",
    "    for slice_ in slice_reqs:\n",
    "        s_cpu = slice_['ncpu']\n",
    "        s_m = slice_['nm']\n",
    "        s_bw = slice_['nbw']\n",
    "        \n",
    "        if total_res['C'] >= s_cpu and total_res['M']>= s_m and total_res['B']>=s_bw:\n",
    "            total_res['C'] -= s_cpu\n",
    "            total_res['M'] -= s_m\n",
    "            total_res['B'] -= s_bw\n",
    "            accepted_slices.append(slice_)\n",
    "        else:\n",
    "            rej_penalty += slice_req_params[slice_['class']]['rej_penalty']\n",
    "            continue\n",
    "\n",
    "    return accepted_slices, rej_penalty"
   ]
  },
  {
   "cell_type": "markdown",
   "id": "bf97e70e-125f-4074-8199-d67621d8aa3b",
   "metadata": {},
   "source": [
    "## 2. Heirarchical PPO algo."
   ]
  },
  {
   "cell_type": "code",
   "execution_count": 164,
   "id": "266f010b-39fb-40ec-9315-0a7a369a9cb2",
   "metadata": {
    "tags": []
   },
   "outputs": [],
   "source": [
    "import os"
   ]
  },
  {
   "cell_type": "code",
   "execution_count": 165,
   "id": "56aab0c4-0bd2-4c54-89a5-a611aee566cf",
   "metadata": {
    "tags": []
   },
   "outputs": [],
   "source": [
    "import sys\n",
    "sys.path.append(os.path.abspath(os.path.join(os.getcwd(), os.pardir)))"
   ]
  },
  {
   "cell_type": "code",
   "execution_count": 166,
   "id": "2fd40272-c6b9-4123-a8b2-8b0e8a4971f2",
   "metadata": {
    "tags": []
   },
   "outputs": [
    {
     "name": "stdout",
     "output_type": "stream",
     "text": [
      "The autoreload extension is already loaded. To reload it, use:\n",
      "  %reload_ext autoreload\n"
     ]
    }
   ],
   "source": [
    "%load_ext autoreload\n",
    "%autoreload 2"
   ]
  },
  {
   "cell_type": "code",
   "execution_count": 167,
   "id": "ca53234d-9abc-4d10-820f-bca82ec20e03",
   "metadata": {
    "tags": []
   },
   "outputs": [
    {
     "name": "stdout",
     "output_type": "stream",
     "text": [
      "/Users/sailor_omkar/Codes/HMARL_exp/src\n"
     ]
    }
   ],
   "source": [
    "print(os.path.abspath(os.path.join(os.getcwd(), os.pardir)))"
   ]
  },
  {
   "cell_type": "code",
   "execution_count": 168,
   "id": "96a822f7-ae07-42dc-a084-180d0ee72a3f",
   "metadata": {
    "tags": []
   },
   "outputs": [],
   "source": [
    "from stable_baselines3 import A2C, PPO, DQN\n",
    "from envs.hmarl_central_env import CentralAgentEnv\n",
    "from envs.hmarl_slice_env import ElasticSliceAgentEnv"
   ]
  },
  {
   "cell_type": "code",
   "execution_count": 169,
   "id": "f0d72676-c273-4bd5-b829-49b7d69966b2",
   "metadata": {
    "tags": []
   },
   "outputs": [],
   "source": [
    "slice_agent_env_c1 = ElasticSliceAgentEnv(slice_class = 'C1')\n",
    "slice_agent_env_c2 = ElasticSliceAgentEnv(slice_class = 'C2')\n",
    "slice_agent_env_c3 = ElasticSliceAgentEnv(slice_class = 'C3')\n",
    "central_agent_env = CentralAgentEnv()"
   ]
  },
  {
   "cell_type": "code",
   "execution_count": 170,
   "id": "54a532fc-4412-47e7-a485-cc4c225fd3b8",
   "metadata": {
    "tags": []
   },
   "outputs": [
    {
     "name": "stdout",
     "output_type": "stream",
     "text": [
      "Wrapping the env with a `Monitor` wrapper\n",
      "Wrapping the env in a DummyVecEnv.\n",
      "Wrapping the env with a `Monitor` wrapper\n",
      "Wrapping the env in a DummyVecEnv.\n",
      "Wrapping the env with a `Monitor` wrapper\n",
      "Wrapping the env in a DummyVecEnv.\n",
      "Wrapping the env with a `Monitor` wrapper\n",
      "Wrapping the env in a DummyVecEnv.\n",
      "Wrapping the env with a `Monitor` wrapper\n",
      "Wrapping the env in a DummyVecEnv.\n",
      "Wrapping the env with a `Monitor` wrapper\n",
      "Wrapping the env in a DummyVecEnv.\n",
      "Wrapping the env with a `Monitor` wrapper\n",
      "Wrapping the env in a DummyVecEnv.\n",
      "Wrapping the env with a `Monitor` wrapper\n",
      "Wrapping the env in a DummyVecEnv.\n"
     ]
    }
   ],
   "source": [
    "model_folder_path = os.path.abspath(os.path.join(os.getcwd(), os.pardir, 'hmarl2', 'selected_models'))\n",
    "    \n",
    "                                        \n",
    "# loading models\n",
    "ppo_central_model = PPO.load(os.path.abspath(os.path.join(model_folder_path, 'central_PPO', '1800000.zip')), central_agent_env)\n",
    "\n",
    "ppo_model_dict = {\n",
    "    'C1': PPO.load(os.path.abspath(os.path.join(model_folder_path, 'PPO_C1', '2700000.zip')), slice_agent_env_c1),\n",
    "    'C2': PPO.load(os.path.abspath(os.path.join(model_folder_path, 'PPO_C2', '1900000.zip')), slice_agent_env_c2),\n",
    "    'C3': PPO.load(os.path.abspath(os.path.join(model_folder_path, 'PPO_C3', '1800000.zip')), slice_agent_env_c3),\n",
    "}\n",
    "\n",
    "dqn_central_model = DQN.load(os.path.abspath(os.path.join(model_folder_path, 'central_DQN', '1400000.zip')), central_agent_env)\n",
    "\n",
    "dqn_model_dict = {\n",
    "    'C1': DQN.load(os.path.abspath(os.path.join(model_folder_path, 'DQN_C1', '1400000.zip')), slice_agent_env_c1),\n",
    "    'C2': DQN.load(os.path.abspath(os.path.join(model_folder_path, 'DQN_C2', '1400000.zip')), slice_agent_env_c2),\n",
    "    'C3': DQN.load(os.path.abspath(os.path.join(model_folder_path, 'DQN_C3', '1400000.zip')), slice_agent_env_c3),\n",
    "}"
   ]
  },
  {
   "cell_type": "code",
   "execution_count": 171,
   "id": "27111330-28be-4a8d-b688-c5b67b94074c",
   "metadata": {
    "tags": []
   },
   "outputs": [],
   "source": [
    "def s_ppo(slice_reqs):\n",
    "    rej_penalty = 0\n",
    "    accepted_slices = list()\n",
    "    \n",
    "    class_dict = {\"C1\": 0, \"C2\": 1, \"C3\": 2}\n",
    "    # assigning resources on hmarl basis\n",
    "    for slice_ in slice_reqs:\n",
    "        s_cpu = slice_['ncpu']\n",
    "        s_m = slice_['nm']\n",
    "        s_bw = slice_['nbw']\n",
    "        s_class = slice_['class']\n",
    "        s_duration = slice_['slice_duration']\n",
    "        s_bid = slice_['bid_value']\n",
    "        \n",
    "        \n",
    "        if total_res['C'] >= s_cpu and total_res['M']>= s_m and total_res['B']>=s_bw:\n",
    "            \n",
    "            central_action, _ = ppo_central_model.predict(\n",
    "                                {'av_cpu': np.array([total_res['C']]),\n",
    "                                 'av_mem': np.array([total_res['M']]),\n",
    "                                 'av_bw': np.array([total_res['B']]),\n",
    "                                 'req_cpu': np.array([s_cpu]),\n",
    "                                 'req_bw': np.array([s_bw]),\n",
    "                                 'req_mem': np.array([s_m]),\n",
    "                                 'duration': np.array([s_duration]),\n",
    "                                 'bid_value': np.array([s_bid]),\n",
    "                                 'slice_class': np.array([class_dict[s_class]])})\n",
    "                \n",
    "            if central_action:\n",
    "                total_res['C'] -= s_cpu\n",
    "                total_res['M'] -= s_m\n",
    "                total_res['B'] -= s_bw\n",
    "                accepted_slices.append(slice_)\n",
    "            else:\n",
    "                rej_penalty += slice_req_params[slice_['class']]['rej_penalty']\n",
    "        else:\n",
    "            rej_penalty += slice_req_params[slice_['class']]['rej_penalty']\n",
    "            continue\n",
    "\n",
    "    return accepted_slices, rej_penalty"
   ]
  },
  {
   "cell_type": "code",
   "execution_count": 172,
   "id": "0afbef2c-17db-4ed2-99f8-31b8cf2b692d",
   "metadata": {
    "tags": []
   },
   "outputs": [],
   "source": [
    "def s_dqn(slice_reqs):\n",
    "    rej_penalty = 0\n",
    "    accepted_slices = list()\n",
    "    \n",
    "    class_dict = {\"C1\": 0, \"C2\": 1, \"C3\": 2}\n",
    "    # assigning resources on hmarl basis\n",
    "    for slice_ in slice_reqs:\n",
    "        s_cpu = slice_['ncpu']\n",
    "        s_m = slice_['nm']\n",
    "        s_bw = slice_['nbw']\n",
    "        s_class = slice_['class']\n",
    "        s_duration = slice_['slice_duration']\n",
    "        s_bid = slice_['bid_value']\n",
    "        \n",
    "        \n",
    "        if total_res['C'] >= s_cpu and total_res['M']>= s_m and total_res['B']>=s_bw:\n",
    "            central_action, _ = dqn_central_model.predict(\n",
    "                                {'av_cpu': np.array([total_res['C']]),\n",
    "                                 'av_mem': np.array([total_res['M']]),\n",
    "                                 'av_bw': np.array([total_res['B']]),\n",
    "                                 'req_cpu': np.array([s_cpu]),\n",
    "                                 'req_bw': np.array([s_bw]),\n",
    "                                 'req_mem': np.array([s_m]),\n",
    "                                 'duration': np.array([s_duration]),\n",
    "                                 'bid_value': np.array([s_bid]),\n",
    "                                 'slice_class': np.array([class_dict[s_class]])})\n",
    "\n",
    "            if central_action:\n",
    "                total_res['C'] -= s_cpu\n",
    "                total_res['M'] -= s_m\n",
    "                total_res['B'] -= s_bw\n",
    "                accepted_slices.append(slice_)\n",
    "            else:\n",
    "                rej_penalty += slice_req_params[slice_['class']]['rej_penalty']\n",
    "        else:\n",
    "            rej_penalty += slice_req_params[slice_['class']]['rej_penalty']\n",
    "            continue\n",
    "\n",
    "    return accepted_slices, rej_penalty"
   ]
  },
  {
   "cell_type": "code",
   "execution_count": 173,
   "id": "05ab714b-003a-4957-9aa8-bbdf364af4d5",
   "metadata": {
    "tags": []
   },
   "outputs": [],
   "source": [
    "def h_ppo(slice_reqs):\n",
    "    rej_penalty = 0\n",
    "    accepted_slices = list()\n",
    "    \n",
    "    class_dict = {\"C1\": 0, \"C2\": 1, \"C3\": 2}\n",
    "    # assigning resources on hmarl basis\n",
    "    for slice_ in slice_reqs:\n",
    "        s_cpu = slice_['ncpu']\n",
    "        s_m = slice_['nm']\n",
    "        s_bw = slice_['nbw']\n",
    "        s_class = slice_['class']\n",
    "        s_duration = slice_['slice_duration']\n",
    "        s_bid = slice_['bid_value']\n",
    "        \n",
    "        \n",
    "        if total_res['C'] >= s_cpu and total_res['M']>= s_m and total_res['B']>=s_bw:\n",
    "            # taking decision of class level agents.\n",
    "            agent_action, _ = ppo_model_dict[s_class].predict(\n",
    "                                    {'av_cpu': np.array([total_res['C']]),\n",
    "                                     'av_mem': np.array([total_res['M']]),\n",
    "                                     'av_bw': np.array([total_res['B']]),\n",
    "                                     'req_cpu': np.array([s_cpu]),\n",
    "                                     'req_bw': np.array([s_bw]),\n",
    "                                     'req_mem': np.array([s_m]),\n",
    "                                     'duration': np.array([s_duration]),\n",
    "                                     'bid_value': np.array([s_bid])})\n",
    "            \n",
    "            # taking decision of central agents.\n",
    "            if agent_action:\n",
    "                central_action, _ = ppo_central_model.predict(\n",
    "                                    {'av_cpu': np.array([total_res['C']]),\n",
    "                                     'av_mem': np.array([total_res['M']]),\n",
    "                                     'av_bw': np.array([total_res['B']]),\n",
    "                                     'req_cpu': np.array([s_cpu]),\n",
    "                                     'req_bw': np.array([s_bw]),\n",
    "                                     'req_mem': np.array([s_m]),\n",
    "                                     'duration': np.array([s_duration]),\n",
    "                                     'bid_value': np.array([s_bid]),\n",
    "                                     'slice_class': np.array([class_dict[s_class]])})\n",
    "                \n",
    "                if central_action:\n",
    "                    total_res['C'] -= s_cpu\n",
    "                    total_res['M'] -= s_m\n",
    "                    total_res['B'] -= s_bw\n",
    "                    accepted_slices.append(slice_)\n",
    "                else:\n",
    "                    rej_penalty += slice_req_params[slice_['class']]['rej_penalty']\n",
    "        else:\n",
    "            rej_penalty += slice_req_params[slice_['class']]['rej_penalty']\n",
    "            continue\n",
    "\n",
    "    return accepted_slices, rej_penalty"
   ]
  },
  {
   "cell_type": "code",
   "execution_count": 174,
   "id": "27f93db2-ee24-4e98-8120-80d4faf533c5",
   "metadata": {
    "tags": []
   },
   "outputs": [],
   "source": [
    "def h_dqn(slice_reqs):\n",
    "    rej_penalty = 0\n",
    "    accepted_slices = list()\n",
    "    \n",
    "    class_dict = {\"C1\": 0, \"C2\": 1, \"C3\": 2}\n",
    "    # assigning resources on hmarl basis\n",
    "    for slice_ in slice_reqs:\n",
    "        s_cpu = slice_['ncpu']\n",
    "        s_m = slice_['nm']\n",
    "        s_bw = slice_['nbw']\n",
    "        s_class = slice_['class']\n",
    "        s_duration = slice_['slice_duration']\n",
    "        s_bid = slice_['bid_value']\n",
    "        \n",
    "        \n",
    "        if total_res['C'] >= s_cpu and total_res['M']>= s_m and total_res['B']>=s_bw:\n",
    "            # taking decision of class level agents.\n",
    "            agent_action, _ = dqn_model_dict[s_class].predict(\n",
    "                                    {'av_cpu': np.array([total_res['C']]),\n",
    "                                     'av_mem': np.array([total_res['M']]),\n",
    "                                     'av_bw': np.array([total_res['B']]),\n",
    "                                     'req_cpu': np.array([s_cpu]),\n",
    "                                     'req_bw': np.array([s_bw]),\n",
    "                                     'req_mem': np.array([s_m]),\n",
    "                                     'duration': np.array([s_duration]),\n",
    "                                     'bid_value': np.array([s_bid])})\n",
    "            \n",
    "            # taking decision of central agents.\n",
    "            if agent_action:\n",
    "                central_action, _ = dqn_central_model.predict(\n",
    "                                    {'av_cpu': np.array([total_res['C']]),\n",
    "                                     'av_mem': np.array([total_res['M']]),\n",
    "                                     'av_bw': np.array([total_res['B']]),\n",
    "                                     'req_cpu': np.array([s_cpu]),\n",
    "                                     'req_bw': np.array([s_bw]),\n",
    "                                     'req_mem': np.array([s_m]),\n",
    "                                     'duration': np.array([s_duration]),\n",
    "                                     'bid_value': np.array([s_bid]),\n",
    "                                     'slice_class': np.array([class_dict[s_class]])})\n",
    "                \n",
    "                if central_action:\n",
    "                    total_res['C'] -= s_cpu\n",
    "                    total_res['M'] -= s_m\n",
    "                    total_res['B'] -= s_bw\n",
    "                    accepted_slices.append(slice_)\n",
    "                else:\n",
    "                    rej_penalty += slice_req_params[slice_['class']]['rej_penalty']\n",
    "        else:\n",
    "            rej_penalty += slice_req_params[slice_['class']]['rej_penalty']\n",
    "            continue\n",
    "\n",
    "    return accepted_slices, rej_penalty"
   ]
  },
  {
   "cell_type": "markdown",
   "id": "6c5e7ac5-2d1d-4e1f-bec6-ac65188dbaec",
   "metadata": {
    "tags": []
   },
   "source": [
    "# Network window simulation"
   ]
  },
  {
   "cell_type": "code",
   "execution_count": 175,
   "id": "a9b41dd1-586f-42af-be14-d1231ca46b14",
   "metadata": {
    "tags": []
   },
   "outputs": [],
   "source": [
    "def a_net_win(env, NW, quantum, algo):\n",
    "    # get slices distributed till time t\n",
    "    slice_list = list()\n",
    "    active_slices = list()\n",
    "    revenue = 0\n",
    "    quantum_count = 0\n",
    "    slav_penalty = 0\n",
    "    \n",
    "    while env.now < NW:\n",
    "        \n",
    "        # get slices which are well distributed in interval t\n",
    "        new_slices = list()\n",
    "        for class_ in class_types:\n",
    "            new_slices.extend(get_slices(class_, quantum, env.now))\n",
    "        \n",
    "        \n",
    "        new_slices.sort(key = operator.itemgetter('time'))\n",
    "        # print(new_slices)\n",
    "        # df = pd.DataFrame(new_slices)\n",
    "        # df.to_excel('output.xlsx')\n",
    "        \n",
    "        # releasing resources\n",
    "        active_slices, expired_slices_count = release_slices(active_slices, env.now)\n",
    "        \n",
    "        # select slices\n",
    "        if algo == 'simple':\n",
    "            accepted_slices, rej_penalty = simple(new_slices)\n",
    "        elif algo == 'heirar_PPO':\n",
    "            accepted_slices, rej_penalty = h_ppo(new_slices)\n",
    "        elif algo == 'heirar_DQN':\n",
    "            accepted_slices, rej_penalty = h_dqn(new_slices)\n",
    "        elif algo == 'simple_PPO':\n",
    "            accepted_slices, rej_penalty = s_ppo(new_slices)\n",
    "        elif algo == 'simple_DQN':\n",
    "            accepted_slices, rej_penalty = s_dqn(new_slices)\n",
    "            \n",
    "        active_slices.extend(accepted_slices)\n",
    "        \n",
    "        # compute SLAV\n",
    "        slav_penalty = calculate_slav(active_slices)\n",
    "        \n",
    "        # compute revenue\n",
    "        curr_revenue = calculate_revenue(active_slices) - slav_penalty - rej_penalty\n",
    "        revenue+= curr_revenue\n",
    "        \n",
    "        quantum_count +=1\n",
    "        yield env.timeout(quantum)\n",
    "        \n",
    "    print(f'Total Revenue {algo}', revenue) \n",
    "        \n",
    "    return slice_list, revenue"
   ]
  },
  {
   "cell_type": "code",
   "execution_count": 176,
   "id": "37b813df-027f-4354-8a61-bbed40f44c2c",
   "metadata": {
    "tags": []
   },
   "outputs": [],
   "source": [
    "slice_req_params = {\n",
    "    'C1':{'NC':4000, 'NB':1100, 'NM':2000, 'arr_rate_mean': 7, 'mean_bid_val': 25, 'var':1, 'mean_duration':90, 'SLAV':0, 'rej_penalty':100, 'slav_penalty':25},\n",
    "    'C2':{'NC':2000, 'NB':500, 'NM':1500, 'arr_rate_mean': 9, 'mean_bid_val': 15, 'var':1.5, 'mean_duration':70,'SLAV':5, 'rej_penalty':0, 'slav_penalty':15},\n",
    "    'C3':{'NC':1500, 'NB':300, 'NM':1000, 'arr_rate_mean': 12, 'mean_bid_val': 12, 'var':1.8, 'mean_duration':30,'SLAV':10, 'rej_penalty':0, 'slav_penalty':10}               \n",
    "}\n",
    "\n",
    "slice_class_res_req = {\n",
    "    'C1':{'NC':4000, 'NB':1100, 'NM':2000},\n",
    "    'C2':{'NC':2000, 'NB':500, 'NM':1500},\n",
    "    'C3':{'NC':1500, 'NB':300, 'NM':1000}\n",
    "}\n",
    "\n",
    "total_res = {\n",
    "    'C': 100000,\n",
    "    'B': 70000,\n",
    "    'M': 100000\n",
    "}\n",
    "\n",
    "class_types = ['C1', 'C2', 'C3']\n",
    "quantum = 60\n",
    "# NW = 400\n",
    "# algo = 'heirar_PPO'"
   ]
  },
  {
   "cell_type": "code",
   "execution_count": 177,
   "id": "3716189e-b4f4-4148-b877-7a8dac2ac6e6",
   "metadata": {
    "tags": []
   },
   "outputs": [
    {
     "name": "stdout",
     "output_type": "stream",
     "text": [
      "Total Revenue simple 13474.0\n",
      "Total Revenue simple 26379.0\n",
      "Total Revenue simple 39093.0\n",
      "Total Revenue simple 50425.0\n",
      "Total Revenue simple 64699.0\n",
      "Total Revenue simple 76737.0\n",
      "Total Revenue simple 92931.0\n",
      "Total Revenue simple 118322.0\n",
      "Total Revenue simple 126540.0\n",
      "Total Revenue heirar_PPO 20456.0\n",
      "Total Revenue heirar_PPO 40751.0\n",
      "Total Revenue heirar_PPO 59752.0\n",
      "Total Revenue heirar_PPO 80898.0\n",
      "Total Revenue heirar_PPO 101330.0\n",
      "Total Revenue heirar_PPO 120436.0\n",
      "Total Revenue heirar_PPO 152857.0\n",
      "Total Revenue heirar_PPO 179264.0\n",
      "Total Revenue heirar_PPO 204466.0\n",
      "Total Revenue heirar_DQN 17442.0\n",
      "Total Revenue heirar_DQN 33734.0\n",
      "Total Revenue heirar_DQN 52192.0\n",
      "Total Revenue heirar_DQN 70196.0\n",
      "Total Revenue heirar_DQN 87640.0\n",
      "Total Revenue heirar_DQN 105541.0\n",
      "Total Revenue heirar_DQN 132866.0\n",
      "Total Revenue heirar_DQN 157204.0\n",
      "Total Revenue heirar_DQN 176373.0\n",
      "Total Revenue simple_PPO 13823.0\n",
      "Total Revenue simple_PPO 25917.0\n",
      "Total Revenue simple_PPO 36314.0\n",
      "Total Revenue simple_PPO 50964.0\n",
      "Total Revenue simple_PPO 63093.0\n",
      "Total Revenue simple_PPO 73713.0\n",
      "Total Revenue simple_PPO 93267.0\n",
      "Total Revenue simple_PPO 110937.0\n",
      "Total Revenue simple_PPO 128129.0\n",
      "Total Revenue simple_DQN 16230.0\n",
      "Total Revenue simple_DQN 30131.0\n",
      "Total Revenue simple_DQN 46134.0\n",
      "Total Revenue simple_DQN 61111.0\n",
      "Total Revenue simple_DQN 75602.0\n",
      "Total Revenue simple_DQN 93553.0\n",
      "Total Revenue simple_DQN 115305.0\n",
      "Total Revenue simple_DQN 134757.0\n",
      "Total Revenue simple_DQN 153761.0\n"
     ]
    }
   ],
   "source": [
    "algo_revenues = {'simple': [], 'heirar_PPO': [], 'heirar_DQN': [], 'simple_PPO': [], 'simple_DQN':[]}\n",
    "\n",
    "def first_process(env, NW, quantum, algo):\n",
    "    return_value, revenue = yield env.process(a_net_win(env, NW, quantum, algo))\n",
    "    algo_revenues[algo].append(revenue)\n",
    "    \n",
    "for algo in ['simple', 'heirar_PPO', 'heirar_DQN', 'simple_PPO', 'simple_DQN']:\n",
    "    for NW in [ 2000, 4000, 6000, 8000, 10000, 12000, 15000, 18000, 20000]:\n",
    "        \n",
    "        slice_req_params = {\n",
    "            'C1':{'NC':4000, 'NB':1100, 'NM':2000, 'arr_rate_mean': 7, 'mean_bid_val': 25, 'var':1, 'mean_duration':90, 'SLAV':0, 'rej_penalty':100, 'slav_penalty':25},\n",
    "            'C2':{'NC':2000, 'NB':500, 'NM':1500, 'arr_rate_mean': 9, 'mean_bid_val': 15, 'var':1.5, 'mean_duration':70,'SLAV':5, 'rej_penalty':0, 'slav_penalty':15},\n",
    "            'C3':{'NC':1500, 'NB':300, 'NM':1000, 'arr_rate_mean': 12, 'mean_bid_val': 12, 'var':1.8, 'mean_duration':30,'SLAV':10, 'rej_penalty':0, 'slav_penalty':10}               \n",
    "        }\n",
    "\n",
    "        slice_class_res_req = {\n",
    "            'C1':{'NC':4000, 'NB':1100, 'NM':2000},\n",
    "            'C2':{'NC':2000, 'NB':500, 'NM':1500},\n",
    "            'C3':{'NC':1500, 'NB':300, 'NM':1000}\n",
    "        }\n",
    "\n",
    "        total_res = {\n",
    "            'C': 100000,\n",
    "            'B': 70000,\n",
    "            'M': 100000\n",
    "        }\n",
    "\n",
    "        class_types = ['C1', 'C2', 'C3']\n",
    "        quantum = 60\n",
    "        my_env = smp.Environment()\n",
    "        my_env.process(first_process(my_env, NW, quantum, algo))\n",
    "        my_env.run()\n",
    "            # df = pd.DataFrame.from_dict(return_value)\n",
    "            # df.to_excel(\"output.xlsx\")\n",
    "\n",
    "# my_env = smp.Environment()\n",
    "# my_env.process(first_process(my_env))\n",
    "# my_env.run()"
   ]
  },
  {
   "cell_type": "code",
   "execution_count": 178,
   "id": "930ac032",
   "metadata": {
    "tags": []
   },
   "outputs": [
    {
     "data": {
      "text/plain": [
       "{'simple': [13474.0,\n",
       "  26379.0,\n",
       "  39093.0,\n",
       "  50425.0,\n",
       "  64699.0,\n",
       "  76737.0,\n",
       "  92931.0,\n",
       "  118322.0,\n",
       "  126540.0],\n",
       " 'heirar_PPO': [20456.0,\n",
       "  40751.0,\n",
       "  59752.0,\n",
       "  80898.0,\n",
       "  101330.0,\n",
       "  120436.0,\n",
       "  152857.0,\n",
       "  179264.0,\n",
       "  204466.0],\n",
       " 'heirar_DQN': [17442.0,\n",
       "  33734.0,\n",
       "  52192.0,\n",
       "  70196.0,\n",
       "  87640.0,\n",
       "  105541.0,\n",
       "  132866.0,\n",
       "  157204.0,\n",
       "  176373.0],\n",
       " 'simple_PPO': [13823.0,\n",
       "  25917.0,\n",
       "  36314.0,\n",
       "  50964.0,\n",
       "  63093.0,\n",
       "  73713.0,\n",
       "  93267.0,\n",
       "  110937.0,\n",
       "  128129.0],\n",
       " 'simple_DQN': [16230.0,\n",
       "  30131.0,\n",
       "  46134.0,\n",
       "  61111.0,\n",
       "  75602.0,\n",
       "  93553.0,\n",
       "  115305.0,\n",
       "  134757.0,\n",
       "  153761.0]}"
      ]
     },
     "execution_count": 178,
     "metadata": {},
     "output_type": "execute_result"
    }
   ],
   "source": [
    "algo_revenues"
   ]
  },
  {
   "cell_type": "code",
   "execution_count": 187,
   "id": "af6bdabf-f461-41c7-8a02-6eacacaf15b4",
   "metadata": {
    "tags": []
   },
   "outputs": [
    {
     "data": {
      "image/png": "[encoded data removed]",
      "text/plain": [
       "<Figure size 640x480 with 1 Axes>"
      ]
     },
     "metadata": {},
     "output_type": "display_data"
    }
   ],
   "source": [
    "import matplotlib.pyplot as plt\n",
    "  \n",
    "# create data\n",
    "x_nw = [ 2000, 4000, 6000, 8000, 10000, 12000, 15000, 18000, 20000]\n",
    "y_simple = algo_revenues['simple']\n",
    "y_h_PPO = algo_revenues['heirar_PPO']\n",
    "y_h_DQN = algo_revenues['heirar_DQN']\n",
    "y_s_PPO = algo_revenues['simple_PPO']\n",
    "y_s_DQN = algo_revenues['simple_DQN']\n",
    "  \n",
    "# plot lines\n",
    "plt.plot(x_nw, y_simple, label = \"simple FCFS\", linestyle=\"-\")\n",
    "plt.scatter(x_nw, y_simple, marker='v', color='b')\n",
    "plt.plot(x_nw, y_h_PPO, label = \"heirarchical PPO\", linestyle=\"--\")\n",
    "plt.scatter(x_nw, y_h_PPO, marker='v', color='r')\n",
    "plt.plot(x_nw, y_h_DQN, label = \"heirarchical DQN\", linestyle=\":\")\n",
    "plt.scatter(x_nw, y_h_DQN, marker='v', color='g')\n",
    "plt.plot(x_nw, y_s_PPO, label = \"simple PPO\", linestyle=\"-.\")\n",
    "plt.scatter(x_nw, y_s_PPO, marker='v', color='r')\n",
    "plt.plot(x_nw, y_s_DQN, label = \"simple DQN\", linestyle=\"dotted\")\n",
    "plt.scatter(x_nw, y_s_DQN, marker='v', color='m')\n",
    "\n",
    "plt.xlabel(\"Network window time\")\n",
    "plt.ylabel(\"Revenue\")\n",
    "plt.legend()\n",
    "plt.show()"
   ]
  },
  {
   "cell_type": "code",
   "execution_count": null,
   "id": "f39c415a-7963-4bf0-b97e-c08447672c76",
   "metadata": {},
   "outputs": [],
   "source": []
  }
 ],
 "metadata": {
  "kernelspec": {
   "display_name": "Python 3 (ipykernel)",
   "language": "python",
   "name": "python3"
  },
  "language_info": {
   "codemirror_mode": {
    "name": "ipython",
    "version": 3
   },
   "file_extension": ".py",
   "mimetype": "text/x-python",
   "name": "python",
   "nbconvert_exporter": "python",
   "pygments_lexer": "ipython3",
   "version": "3.11.4"
  }
 },
 "nbformat": 4,
 "nbformat_minor": 5
}
