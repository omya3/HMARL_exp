{
 "cells": [
  {
   "cell_type": "code",
   "execution_count": 1,
   "id": "ebdcf068-abd4-4d01-9c45-65e23b2743a1",
   "metadata": {
    "tags": []
   },
   "outputs": [],
   "source": [
    "import gymnasium as gym\n",
    "import numpy as np\n",
    "from gymnasium import spaces"
   ]
  },
  {
   "cell_type": "code",
   "execution_count": null,
   "id": "9a88cd7d-581e-4cfd-a0a1-5375386ef36e",
   "metadata": {},
   "outputs": [],
   "source": [
    "class HmarlEnv(gym.Env):\n",
    "    \n",
    "    def __init__(self):\n",
    "        pass\n",
    "    \n",
    "    def __get_obs(self):\n",
    "        pass\n",
    "    \n",
    "    def __get_info(self):\n",
    "        pass\n",
    "    \n",
    "    def reset(self, seed=None, options=None):\n",
    "        super().reset(seed=seed)\n",
    "        pass\n",
    "    \n",
    "    def step(self, action):\n",
    "        pass\n",
    "        "
   ]
  }
 ],
 "metadata": {
  "kernelspec": {
   "display_name": "Python 3 (ipykernel)",
   "language": "python",
   "name": "python3"
  },
  "language_info": {
   "codemirror_mode": {
    "name": "ipython",
    "version": 3
   },
   "file_extension": ".py",
   "mimetype": "text/x-python",
   "name": "python",
   "nbconvert_exporter": "python",
   "pygments_lexer": "ipython3",
   "version": "3.11.4"
  }
 },
 "nbformat": 4,
 "nbformat_minor": 5
}
