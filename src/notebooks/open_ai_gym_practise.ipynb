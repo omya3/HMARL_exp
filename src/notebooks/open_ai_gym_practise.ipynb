{
 "cells": [
  {
   "cell_type": "markdown",
   "id": "1f30172b-748d-44be-919a-584112eea417",
   "metadata": {},
   "source": [
    "# Environment"
   ]
  },
  {
   "cell_type": "code",
   "execution_count": 2,
   "id": "23aa7864-fed3-4cbf-8dbe-69eb39e78d7d",
   "metadata": {
    "tags": []
   },
   "outputs": [],
   "source": [
    "import gymnasium as gym"
   ]
  },
  {
   "cell_type": "code",
   "execution_count": 3,
   "id": "da3efbd4-57e2-4a3a-8b38-5eeedc6495a6",
   "metadata": {
    "tags": []
   },
   "outputs": [],
   "source": [
    "env = gym.make(\"LunarLander-v2\")"
   ]
  },
  {
   "cell_type": "code",
   "execution_count": 4,
   "id": "688ae89c-a1eb-4793-964c-7c2fe441a302",
   "metadata": {
    "tags": []
   },
   "outputs": [],
   "source": [
    "obs, info = env.reset()"
   ]
  },
  {
   "cell_type": "code",
   "execution_count": 5,
   "id": "ea13a8a9-11a8-4278-923e-765aa340b682",
   "metadata": {
    "tags": []
   },
   "outputs": [
    {
     "data": {
      "text/plain": [
       "array([ 0.00797129,  1.4154449 ,  0.807394  ,  0.20107688, -0.00922997,\n",
       "       -0.18288693,  0.        ,  0.        ], dtype=float32)"
      ]
     },
     "execution_count": 5,
     "metadata": {},
     "output_type": "execute_result"
    }
   ],
   "source": [
    "obs"
   ]
  },
  {
   "cell_type": "code",
   "execution_count": 6,
   "id": "63d9b041-f5d5-4bcf-9e05-f3dd3be51cb0",
   "metadata": {
    "tags": []
   },
   "outputs": [
    {
     "data": {
      "text/plain": [
       "{}"
      ]
     },
     "execution_count": 6,
     "metadata": {},
     "output_type": "execute_result"
    }
   ],
   "source": [
    "info"
   ]
  },
  {
   "cell_type": "code",
   "execution_count": 7,
   "id": "6de19f9e-24fb-4904-b1a2-e7948f8012d8",
   "metadata": {
    "tags": []
   },
   "outputs": [
    {
     "data": {
      "text/plain": [
       "Box([-1.5       -1.5       -5.        -5.        -3.1415927 -5.\n",
       " -0.        -0.       ], [1.5       1.5       5.        5.        3.1415927 5.        1.\n",
       " 1.       ], (8,), float32)"
      ]
     },
     "execution_count": 7,
     "metadata": {},
     "output_type": "execute_result"
    }
   ],
   "source": [
    "env.observation_space"
   ]
  },
  {
   "cell_type": "code",
   "execution_count": 8,
   "id": "b04885fc-36e3-4c0b-8496-98fa5e8a2b32",
   "metadata": {
    "tags": []
   },
   "outputs": [],
   "source": [
    "env.close()"
   ]
  },
  {
   "cell_type": "code",
   "execution_count": 9,
   "id": "6ddbe3ea-ba67-4e73-9921-cfc778d92bd5",
   "metadata": {
    "tags": []
   },
   "outputs": [
    {
     "data": {
      "text/plain": [
       "(-inf, inf)"
      ]
     },
     "execution_count": 9,
     "metadata": {},
     "output_type": "execute_result"
    }
   ],
   "source": [
    "env.reward_range"
   ]
  },
  {
   "cell_type": "code",
   "execution_count": 10,
   "id": "a5bc67cc-a2bc-4bc9-8733-bf978ea155f6",
   "metadata": {
    "tags": []
   },
   "outputs": [
    {
     "data": {
      "text/plain": [
       "Discrete(4)"
      ]
     },
     "execution_count": 10,
     "metadata": {},
     "output_type": "execute_result"
    }
   ],
   "source": [
    "env.action_space"
   ]
  },
  {
   "cell_type": "markdown",
   "id": "bbb30513-4c4d-438d-8568-f0f801b9808e",
   "metadata": {},
   "source": [
    "# Spaces"
   ]
  },
  {
   "cell_type": "code",
   "execution_count": 11,
   "id": "3806030e-a0da-45e3-be6c-bbd8085ddad5",
   "metadata": {
    "tags": []
   },
   "outputs": [],
   "source": [
    "import numpy as np"
   ]
  },
  {
   "cell_type": "markdown",
   "id": "cb937c66-e41c-4f69-b556-b2f654f5a5e0",
   "metadata": {},
   "source": [
    "### BOX"
   ]
  },
  {
   "cell_type": "code",
   "execution_count": 12,
   "id": "dedded66-ccbf-4c2a-97f7-0db5cb851fe3",
   "metadata": {
    "tags": []
   },
   "outputs": [],
   "source": [
    "sp = gym.spaces.Box(low=-1.0, high=2.0, shape=(5,), dtype=np.float32)"
   ]
  },
  {
   "cell_type": "code",
   "execution_count": 13,
   "id": "d3837c80-fdfa-4520-95e9-8a4db6574221",
   "metadata": {
    "tags": []
   },
   "outputs": [
    {
     "data": {
      "text/plain": [
       "array([ 1.3424195 ,  1.1621513 ,  0.5732033 , -0.01178603,  1.3438237 ],\n",
       "      dtype=float32)"
      ]
     },
     "execution_count": 13,
     "metadata": {},
     "output_type": "execute_result"
    }
   ],
   "source": [
    "sp.sample()"
   ]
  },
  {
   "cell_type": "markdown",
   "id": "3ae8fcf4-c43e-48ce-b995-60311ccaf8d5",
   "metadata": {},
   "source": [
    "### Dict"
   ]
  },
  {
   "cell_type": "code",
   "execution_count": 14,
   "id": "eb74438f-46c9-4f8d-b2b5-dfc85b7c53bc",
   "metadata": {
    "tags": []
   },
   "outputs": [
    {
     "ename": "ModuleNotFoundError",
     "evalue": "No module named 'gym'",
     "output_type": "error",
     "traceback": [
      "\u001b[0;31m---------------------------------------------------------------------------\u001b[0m",
      "\u001b[0;31mModuleNotFoundError\u001b[0m                       Traceback (most recent call last)",
      "Cell \u001b[0;32mIn[14], line 1\u001b[0m\n\u001b[0;32m----> 1\u001b[0m \u001b[38;5;28;01mfrom\u001b[39;00m \u001b[38;5;21;01mgym\u001b[39;00m\u001b[38;5;21;01m.\u001b[39;00m\u001b[38;5;21;01mspaces\u001b[39;00m \u001b[38;5;28;01mimport\u001b[39;00m Box, Discrete\n",
      "\u001b[0;31mModuleNotFoundError\u001b[0m: No module named 'gym'"
     ]
    }
   ],
   "source": [
    "from gym.spaces import Box, Discrete"
   ]
  },
  {
   "cell_type": "code",
   "execution_count": 15,
   "id": "9ae478b9-92a4-431a-86e0-15b64c5c6d91",
   "metadata": {
    "tags": []
   },
   "outputs": [
    {
     "data": {
      "text/plain": [
       "Dict('color': Discrete(3), 'position': Box(-1.0, 1.0, (2,), float32))"
      ]
     },
     "execution_count": 15,
     "metadata": {},
     "output_type": "execute_result"
    }
   ],
   "source": [
    "gym.spaces.Dict({\"position\": gym.spaces.Box(-1, 1, shape=(2,)), \"color\": gym.spaces.Discrete(3)})"
   ]
  },
  {
   "cell_type": "code",
   "execution_count": 16,
   "id": "51def911-3637-4ead-9cf3-95d162cd12d9",
   "metadata": {
    "tags": []
   },
   "outputs": [],
   "source": [
    "tx = gym.spaces.Text(5)"
   ]
  },
  {
   "cell_type": "code",
   "execution_count": 17,
   "id": "220c2c82-71d6-44a0-83ee-6ac35dbdc28e",
   "metadata": {
    "tags": []
   },
   "outputs": [
    {
     "data": {
      "text/plain": [
       "'3A'"
      ]
     },
     "execution_count": 17,
     "metadata": {},
     "output_type": "execute_result"
    }
   ],
   "source": [
    "tx.sample()"
   ]
  },
  {
   "cell_type": "code",
   "execution_count": 18,
   "id": "f9dd898c-f7a9-49e2-b578-c4ead62b9b68",
   "metadata": {
    "tags": []
   },
   "outputs": [
    {
     "data": {
      "text/plain": [
       "Text(1, 5, charset=0123456789ABCDEFGHIJKLMNOPQRSTUVWXYZabcdefghijklmnopqrstuvwxyz)"
      ]
     },
     "execution_count": 18,
     "metadata": {},
     "output_type": "execute_result"
    }
   ],
   "source": [
    "gym.spaces.Text(5)"
   ]
  },
  {
   "cell_type": "markdown",
   "id": "7b3f579d-e22c-4315-823d-b7db92cc93e6",
   "metadata": {},
   "source": [
    "# Own environment"
   ]
  },
  {
   "cell_type": "code",
   "execution_count": 23,
   "id": "101d89cb-5b5c-4a4b-b11a-0bae278a3493",
   "metadata": {
    "tags": []
   },
   "outputs": [],
   "source": [
    "from gymnasium import spaces\n",
    "import pygame\n",
    "import numpy as np"
   ]
  },
  {
   "cell_type": "code",
   "execution_count": 42,
   "id": "8e9ea6e9-34b6-4d57-9810-b57773c267cd",
   "metadata": {
    "tags": []
   },
   "outputs": [],
   "source": [
    "class GridWorld(gym.Env):\n",
    "    \n",
    "    def __init__(self, size):\n",
    "        self.size = size\n",
    "        self.observation_space = spaces.Dict({\n",
    "        \"agent\": spaces.Box(0, size-1, shape=(2,), dtype=int),\n",
    "        \"target\": spaces.Box(0, size-1, shape=(2,), dtype=int),\n",
    "        })\n",
    "        \n",
    "        self.action_space = spaces.Discrete(4)\n",
    "        \n",
    "        self.action_to_direction = {\n",
    "            0: np.array([1, 0]),\n",
    "            1: np.array([0, 1]),\n",
    "            2: np.array([-1, 0]),\n",
    "            3: np.array([0, -1]),\n",
    "        }\n",
    "        \n",
    "        self._agent_location = 0\n",
    "        self._target_location = 0\n",
    "        \n",
    "        return\n",
    "    \n",
    "    def _get_obs(self):\n",
    "        return {\"agent\": self._agent_location, \"target\": self._target_location}\n",
    "    \n",
    "    def _get_info(self):\n",
    "        return {\"distance\": np.linalg.norm(self._agent_location - self._target_location, ord=1)}\n",
    "    \n",
    "    def reset(self, seed=None, options=None):\n",
    "        super().reset(seed = seed)\n",
    "        \n",
    "        self._agent_location = self.np_random.integers(0, self.size, size=2, dtype=int)\n",
    "        \n",
    "        self._target_location = self._agent_location\n",
    "        \n",
    "        while np.array_equal(self._target_location, self._agent_location):\n",
    "            self._target_location = self.np_random.integers(0, self.size, size=2, dtype=int)\n",
    "            \n",
    "        observation = self._get_obs()\n",
    "        info = self._get_info()\n",
    "        \n",
    "        return observation, info\n",
    "    \n",
    "    def step(self, action):\n",
    "        \n",
    "        direction = self._action_to_direction[action]\n",
    "        self._agent_location = np.clip(self._agent_location + direction, 0, self.size-1)\n",
    "        \n",
    "        terminated = np.array_equal(self._target_location, self._agent_location)\n",
    "        reward = 1 if terminated else 0 \n",
    "        observation = self._get_obs()\n",
    "        info = self._get_info()\n",
    "        \n",
    "        return observation, reward, terminated, False, info"
   ]
  },
  {
   "cell_type": "code",
   "execution_count": 43,
   "id": "921aaf5d-f53c-4eb9-9f78-41ba6999fd73",
   "metadata": {
    "tags": []
   },
   "outputs": [],
   "source": [
    "gworld_env = GridWorld(size=5)"
   ]
  },
  {
   "cell_type": "code",
   "execution_count": 44,
   "id": "097bdb8d-2182-4803-b918-2cc94b76e0a7",
   "metadata": {
    "tags": []
   },
   "outputs": [
    {
     "data": {
      "text/plain": [
       "({'agent': array([4, 1]), 'target': array([2, 1])}, {'distance': 2.0})"
      ]
     },
     "execution_count": 44,
     "metadata": {},
     "output_type": "execute_result"
    }
   ],
   "source": [
    "gworld_env.reset()"
   ]
  },
  {
   "cell_type": "code",
   "execution_count": 45,
   "id": "09f7a313-b2a4-4967-9fe6-60cf449a0f49",
   "metadata": {
    "tags": []
   },
   "outputs": [
    {
     "data": {
      "text/plain": [
       "{'distance': 2.0}"
      ]
     },
     "execution_count": 45,
     "metadata": {},
     "output_type": "execute_result"
    }
   ],
   "source": [
    "gworld_env._get_info()"
   ]
  },
  {
   "cell_type": "code",
   "execution_count": 46,
   "id": "0fe4d041-3a7a-4cab-8487-1832c5d490f5",
   "metadata": {
    "tags": []
   },
   "outputs": [
    {
     "data": {
      "text/plain": [
       "{'agent': array([4, 1]), 'target': array([2, 1])}"
      ]
     },
     "execution_count": 46,
     "metadata": {},
     "output_type": "execute_result"
    }
   ],
   "source": [
    "gworld_env._get_obs()"
   ]
  },
  {
   "cell_type": "code",
   "execution_count": null,
   "id": "f4cbb901-b3e3-4f9b-8495-1ddc5fa63f84",
   "metadata": {},
   "outputs": [],
   "source": []
  }
 ],
 "metadata": {
  "kernelspec": {
   "display_name": "Python 3 (ipykernel)",
   "language": "python",
   "name": "python3"
  },
  "language_info": {
   "codemirror_mode": {
    "name": "ipython",
    "version": 3
   },
   "file_extension": ".py",
   "mimetype": "text/x-python",
   "name": "python",
   "nbconvert_exporter": "python",
   "pygments_lexer": "ipython3",
   "version": "3.11.4"
  }
 },
 "nbformat": 4,
 "nbformat_minor": 5
}
